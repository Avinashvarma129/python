{
 "cells": [
  {
   "cell_type": "code",
   "execution_count": null,
   "metadata": {},
   "outputs": [],
   "source": [
    "def printnnaturalnumbers(n):\n",
    "    cnt=1\n",
    "    while(cnt<=n):\n",
    "        print(cnt,end=\"  \")\n",
    "        cnt=cnt+1\n",
    "    print()\n",
    "    return\n",
    "printnnaturalnumbers(9)\n",
    "printnnaturalnumbers(15)"
   ]
  },
  {
   "cell_type": "code",
   "execution_count": 8,
   "metadata": {},
   "outputs": [
    {
     "name": "stdout",
     "output_type": "stream",
     "text": [
      "120\n",
      "3628800\n",
      "2432902008176640000\n"
     ]
    }
   ],
   "source": [
    "def findfact(n):\n",
    "    fact=1\n",
    "    while(n!=0):\n",
    "        fact=fact*n\n",
    "        n=n-1\n",
    "    return fact\n",
    "print(findfact(5))\n",
    "print(findfact(10))\n",
    "print(findfact(20))"
   ]
  },
  {
   "cell_type": "code",
   "execution_count": 13,
   "metadata": {},
   "outputs": [],
   "source": [
    "def countofpalindromes(a,b):\n",
    "    cnt=0\n",
    "    l=a\n",
    "    while(l<b):\n",
    "        u=1\n",
    "        k=1\n",
    "        s=0\n",
    "        while(u!=0):\n",
    "            r=u%10\n",
    "            s=s*10+r\n",
    "            u=u//10\n",
    "        if(s==k):\n",
    "            cnt=cnt+1\n",
    "        l=l+1\n",
    "    print(cnt)\n",
    "    return\n",
    "print(countofpalindromes(1,100))"
   ]
  }
 ],
 "metadata": {
  "kernelspec": {
   "display_name": "Python 3",
   "language": "python",
   "name": "python3"
  },
  "language_info": {
   "codemirror_mode": {
    "name": "ipython",
    "version": 3
   },
   "file_extension": ".py",
   "mimetype": "text/x-python",
   "name": "python",
   "nbconvert_exporter": "python",
   "pygments_lexer": "ipython3",
   "version": "3.7.3"
  }
 },
 "nbformat": 4,
 "nbformat_minor": 2
}
