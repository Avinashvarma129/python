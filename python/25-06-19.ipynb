{
 "cells": [
  {
   "cell_type": "markdown",
   "metadata": {},
   "source": [
    "# Binary search for sorted"
   ]
  },
  {
   "cell_type": "code",
   "execution_count": null,
   "metadata": {},
   "outputs": [],
   "source": [
    "\n",
    "def binarysearch(a,lindex,rindex,taritem):\n",
    " while lindex <= rindex:\n",
    "   mindex=lindex+(rindex-lindex)//2\n",
    "   if a[mindex]==taritem:\n",
    "     return mindex\n",
    "   if a[mindex]>taritem:\n",
    "     rindex=mindex-1\n",
    "   else:\n",
    "     lindex=mindex+1\n",
    " return -1\n",
    "list1=[1,4,9,15,25,45,57,88,98]\n",
    "res=binarysearch(list1,0,8,45)\n",
    "if res!=-1:\n",
    " print('Item is found')\n",
    "else:\n",
    " print('Item is not found')"
   ]
  },
  {
   "cell_type": "markdown",
   "metadata": {},
   "source": [
    "# bubble sort"
   ]
  },
  {
   "cell_type": "code",
   "execution_count": null,
   "metadata": {},
   "outputs": [],
   "source": [
    "n = int(input('size'))\n",
    "def bubbleSort(arr):\n",
    "    for i in range(n):\n",
    "        for j in range(0, n-i-1):\n",
    "            if arr[j] > arr[j+1] :\n",
    "                arr[j], arr[j+1] = arr[j+1], arr[j]\n",
    "arr = [int(input())for i in range(n)]\n",
    "bubbleSort(arr)\n",
    "print (\"Sorted array is:\")\n",
    "for i in range(len(arr)):\n",
    "    print (\"%d\" %arr[i])"
   ]
  },
  {
   "cell_type": "markdown",
   "metadata": {},
   "source": [
    "# Binary search for unsorted"
   ]
  },
  {
   "cell_type": "code",
   "execution_count": null,
   "metadata": {},
   "outputs": [],
   "source": [
    "n = int(input('size'))\n",
    "def bubbleSort(arr):\n",
    "    for i in range(n):\n",
    "        for j in range(0, n-i-1):\n",
    "            if arr[j] > arr[j+1] :\n",
    "                arr[j], arr[j+1] = arr[j+1], arr[j]\n",
    "arr = [int(input())for i in range(n)]\n",
    "bubbleSort(arr)\n",
    "print (\"Sorted array is:\")\n",
    "for i in range(len(arr)):\n",
    "    print (\"%d\" %arr[i])\n",
    "def binarysearch(arr,lindex,rindex,taritem):\n",
    "    while lindex <= rindex:\n",
    "        mindex=lindex+(rindex-lindex)//2\n",
    "        if a[mindex]==taritem:\n",
    "            return mindex\n",
    "        elif a[mindex]>taritem:\n",
    "            rindex=mindex-1\n",
    "        elif a[mindex]<taritem:\n",
    "            lindex=mindex+1\n",
    "        else :\n",
    "          return -1\n",
    "k=int(input('search element'))\n",
    "res=binarysearch(arr,0,n-1,k)\n",
    "if res!=-1:\n",
    "  print('Item is found at position %d' %res)\n",
    "else:\n",
    "  print('Item is not found')"
   ]
  }
 ],
 "metadata": {
  "kernelspec": {
   "display_name": "Python 3",
   "language": "python",
   "name": "python3"
  },
  "language_info": {
   "codemirror_mode": {
    "name": "ipython",
    "version": 3
   },
   "file_extension": ".py",
   "mimetype": "text/x-python",
   "name": "python",
   "nbconvert_exporter": "python",
   "pygments_lexer": "ipython3",
   "version": "3.7.3"
  }
 },
 "nbformat": 4,
 "nbformat_minor": 2
}
